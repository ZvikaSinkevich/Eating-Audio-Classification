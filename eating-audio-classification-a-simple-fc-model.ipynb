{
 "cells": [
  {
   "cell_type": "markdown",
   "id": "6c269d9f",
   "metadata": {
    "papermill": {
     "duration": 0.017813,
     "end_time": "2021-08-09T13:27:23.940384",
     "exception": false,
     "start_time": "2021-08-09T13:27:23.922571",
     "status": "completed"
    },
    "tags": []
   },
   "source": [
    "# Introduction"
   ]
  },
  {
   "cell_type": "markdown",
   "id": "6c5617f9",
   "metadata": {
    "papermill": {
     "duration": 0.016394,
     "end_time": "2021-08-09T13:27:23.973869",
     "exception": false,
     "start_time": "2021-08-09T13:27:23.957475",
     "status": "completed"
    },
    "tags": []
   },
   "source": [
    "This notebook will describe a SIMPLE  **audio classification** problem using a **Fully-Connected** neural network.\n",
    "\n",
    "**Food identification** technology potentially benefits both food and media industries and improves human-computer interaction.\n",
    "\n",
    "This food classification dataset is based on 246 YouTube videos of 20 food types."
   ]
  },
  {
   "cell_type": "markdown",
   "id": "ce8fd035",
   "metadata": {
    "papermill": {
     "duration": 0.017843,
     "end_time": "2021-08-09T13:27:24.010384",
     "exception": false,
     "start_time": "2021-08-09T13:27:23.992541",
     "status": "completed"
    },
    "tags": []
   },
   "source": [
    "# Common Audio Classification Process:"
   ]
  },
  {
   "cell_type": "markdown",
   "id": "96d603c3",
   "metadata": {
    "papermill": {
     "duration": 0.016902,
     "end_time": "2021-08-09T13:27:24.045286",
     "exception": false,
     "start_time": "2021-08-09T13:27:24.028384",
     "status": "completed"
    },
    "tags": []
   },
   "source": [
    "The standard way to classify audio is based on **Spectogram & CNN Models**. \n",
    "\n",
    "[Spectogram](https://en.wikipedia.org/wiki/Spectrogram) is a **Pre-processing step**, where every audio signal convert from a time domain to a frequency/time domain using [FFT Methods](https://en.wikipedia.org/wiki/Fast_Fourier_transform).\n",
    "\n",
    "* In practice, the time/frequency domain is a two-dimension matrix: the y-axis is the frequency, and the x-axis is the time, and it's a kind of \"picture.\"\n",
    "* Because it's a picture, it can be trained & classified using **CNN Models**.\n",
    "\n",
    "\n",
    "**Note:** The x-axis length is changing via the time duration of the sample - the spectrogram picture WIDTH has no constraints and is needed to resize.\n",
    "\n",
    "\n",
    "**Summary:** The typical way to classify audio is by transforming it into a picture (spectrogram) in the pre-processing step and training it using a CNN model."
   ]
  },
  {
   "cell_type": "markdown",
   "id": "ba816a72",
   "metadata": {
    "papermill": {
     "duration": 0.015937,
     "end_time": "2021-08-09T13:27:24.076672",
     "exception": false,
     "start_time": "2021-08-09T13:27:24.060735",
     "status": "completed"
    },
    "tags": []
   },
   "source": [
    "# My Architecture Considerations:\n"
   ]
  },
  {
   "cell_type": "markdown",
   "id": "1408414d",
   "metadata": {
    "papermill": {
     "duration": 0.016882,
     "end_time": "2021-08-09T13:27:24.109286",
     "exception": false,
     "start_time": "2021-08-09T13:27:24.092404",
     "status": "completed"
    },
    "tags": []
   },
   "source": [
    "* The system will handle **any signal length** as an input.\n",
    "* The system **won't** need any padding in the pre-processing."
   ]
  },
  {
   "cell_type": "markdown",
   "id": "53ac52e5",
   "metadata": {
    "papermill": {
     "duration": 0.017044,
     "end_time": "2021-08-09T13:27:24.144362",
     "exception": false,
     "start_time": "2021-08-09T13:27:24.127318",
     "status": "completed"
    },
    "tags": []
   },
   "source": [
    "# Features Engineering:"
   ]
  },
  {
   "cell_type": "markdown",
   "id": "ad5e81b0",
   "metadata": {
    "papermill": {
     "duration": 0.016418,
     "end_time": "2021-08-09T13:27:24.176176",
     "exception": false,
     "start_time": "2021-08-09T13:27:24.159758",
     "status": "completed"
    },
    "tags": []
   },
   "source": [
    "**Background:** in simple words (and not academic) [MFCC](https://en.wikipedia.org/wiki/Mel-frequency_cepstrum) is a kind of \"smart\" spectrogram, analyzing audio signals regards to the human ears biology & capabilities.   \n",
    "\n",
    "I calculated the **MEAN** of the MFCC coefficients to be the **features space** to accomplish the architecture.\n",
    "\n",
    "[Librosa](https://librosa.org/doc/latest/index.htmlhttps://librosa.org/doc/latest/index.html) is a package music and audio analysis, and I used it to calculate the mfcc. \n",
    "\n",
    "**Advantages:**\n",
    "* The system won't be affected by time duration.\n",
    "* The network can be a simple, fully connected network\n",
    "* Low-time training.\n",
    "* Minimum parameters\\wehigths.\n",
    "\n",
    "* Minimum parameters\\wehigths."
   ]
  },
  {
   "cell_type": "markdown",
   "id": "e17b71b7",
   "metadata": {
    "papermill": {
     "duration": 0.017117,
     "end_time": "2021-08-09T13:27:24.208818",
     "exception": false,
     "start_time": "2021-08-09T13:27:24.191701",
     "status": "completed"
    },
    "tags": []
   },
   "source": [
    "# #00 - Hyper Parameters"
   ]
  },
  {
   "cell_type": "code",
   "execution_count": 1,
   "id": "73cebd26",
   "metadata": {
    "execution": {
     "iopub.execute_input": "2021-08-09T13:27:24.260514Z",
     "iopub.status.busy": "2021-08-09T13:27:24.259814Z",
     "iopub.status.idle": "2021-08-09T13:27:30.405055Z",
     "shell.execute_reply": "2021-08-09T13:27:30.404112Z",
     "shell.execute_reply.started": "2021-08-09T13:20:19.329243Z"
    },
    "papermill": {
     "duration": 6.178403,
     "end_time": "2021-08-09T13:27:30.405237",
     "exception": false,
     "start_time": "2021-08-09T13:27:24.226834",
     "status": "completed"
    },
    "tags": []
   },
   "outputs": [],
   "source": [
    "import librosa\n",
    "from tqdm import tqdm\n",
    "import numpy as np\n",
    "import pandas as pd\n",
    "import matplotlib.pyplot as plt\n",
    "from matplotlib.gridspec import GridSpec\n",
    "from sklearn.model_selection import train_test_split\n",
    "import os\n",
    "from os.path import join\n",
    "\n",
    "from tensorflow.keras.models import Model\n",
    "from tensorflow.keras.layers import Dense, Dropout, Input, BatchNormalization, LeakyReLU \n",
    "from tensorflow.keras.losses import CategoricalCrossentropy\n",
    "from tensorflow.keras.optimizers import Adam\n",
    "\n",
    "\n",
    "# ========================================================\n",
    "# Hyper parameters\n",
    "# ========================================================\n",
    "\n",
    "# Hyper Parameters - Preprocessing (for mfcc coefficients)\n",
    "hop_length = 512\n",
    "n_fft = 2048\n",
    "n_mfcc = 64\n",
    "\n",
    "# Hyper Parameters - for FC neural network model\n",
    "learning_rate=1e-3\n",
    "batch_size = 32\n",
    "n_epoch = 200\n",
    "drop_rate = 0.3\n",
    "drop_seed = 1\n",
    "val_split = 0.2\n",
    "optimizer = Adam(learning_rate=learning_rate)\n",
    "func_loss = CategoricalCrossentropy(from_logits=True)\n",
    "\n",
    "# Paths\n",
    "data_path = r'../input/eating-sound-collection/clips_rd'\n",
    "\n",
    "extracted_features_path = \"_\".join([r'hop_length', str(hop_length),\n",
    "                                    'n_fft', str(n_fft),\n",
    "                                    'n_mfcc', str(n_mfcc)])"
   ]
  },
  {
   "cell_type": "markdown",
   "id": "273a912b",
   "metadata": {
    "papermill": {
     "duration": 0.01684,
     "end_time": "2021-08-09T13:27:30.438617",
     "exception": false,
     "start_time": "2021-08-09T13:27:30.421777",
     "status": "completed"
    },
    "tags": []
   },
   "source": [
    "# #01 - Loading the Dataset"
   ]
  },
  {
   "cell_type": "markdown",
   "id": "693b69b1",
   "metadata": {
    "papermill": {
     "duration": 0.016818,
     "end_time": "2021-08-09T13:27:30.471758",
     "exception": false,
     "start_time": "2021-08-09T13:27:30.454940",
     "status": "completed"
    },
    "tags": []
   },
   "source": [
    "To analyze the dataset, we'll create a data frame that include:\n",
    "* Files paths, \n",
    "* Class of each file\n",
    "* Duration (in seconds) of each audio signal"
   ]
  },
  {
   "cell_type": "code",
   "execution_count": 2,
   "id": "bc44ac29",
   "metadata": {
    "execution": {
     "iopub.execute_input": "2021-08-09T13:27:30.514200Z",
     "iopub.status.busy": "2021-08-09T13:27:30.513608Z",
     "iopub.status.idle": "2021-08-09T13:28:58.235359Z",
     "shell.execute_reply": "2021-08-09T13:28:58.234740Z",
     "shell.execute_reply.started": "2021-08-09T13:20:19.341257Z"
    },
    "papermill": {
     "duration": 87.745479,
     "end_time": "2021-08-09T13:28:58.235522",
     "exception": false,
     "start_time": "2021-08-09T13:27:30.490043",
     "status": "completed"
    },
    "tags": []
   },
   "outputs": [
    {
     "name": "stderr",
     "output_type": "stream",
     "text": [
      "11140it [01:25, 130.80it/s]\n"
     ]
    }
   ],
   "source": [
    "# ========================================================\n",
    "# Define the dataset\n",
    "# l = List\n",
    "# df = Dataframe\n",
    "# ========================================================\n",
    "\n",
    "classes = os.listdir(data_path)\n",
    "\n",
    "# Define files list\n",
    "l_files = [[join(data_path, cls, file), cls]\n",
    "           for cls in classes\n",
    "           for file in os.listdir(join(data_path, cls))]\n",
    "\n",
    "# Add Columns names\n",
    "df_files = pd.DataFrame(l_files, columns=('path', 'label'))\n",
    "\n",
    "# Calculate duration\n",
    "for i, row in tqdm(df_files.iterrows()):\n",
    "    df_files.at[i, 'duration'] = librosa.get_duration(filename=row['path'])"
   ]
  },
  {
   "cell_type": "markdown",
   "id": "88a0585a",
   "metadata": {
    "papermill": {
     "duration": 0.219931,
     "end_time": "2021-08-09T13:28:58.696559",
     "exception": false,
     "start_time": "2021-08-09T13:28:58.476628",
     "status": "completed"
    },
    "tags": []
   },
   "source": [
    "# #02 - Dataset Overview"
   ]
  },
  {
   "cell_type": "code",
   "execution_count": 3,
   "id": "ea808c4d",
   "metadata": {
    "execution": {
     "iopub.execute_input": "2021-08-09T13:28:59.142842Z",
     "iopub.status.busy": "2021-08-09T13:28:59.142153Z",
     "iopub.status.idle": "2021-08-09T13:28:59.495667Z",
     "shell.execute_reply": "2021-08-09T13:28:59.496072Z",
     "shell.execute_reply.started": "2021-08-09T13:22:16.423672Z"
    },
    "papermill": {
     "duration": 0.583202,
     "end_time": "2021-08-09T13:28:59.496216",
     "exception": false,
     "start_time": "2021-08-09T13:28:58.913014",
     "status": "completed"
    },
    "tags": []
   },
   "outputs": [
    {
     "data": {
      "image/png": "[encoded data removed]",
      "text/plain": [
       "<Figure size 1152x576 with 2 Axes>"
      ]
     },
     "metadata": {
      "needs_background": "light"
     },
     "output_type": "display_data"
    }
   ],
   "source": [
    "def dataset_overview(df):\n",
    "    \"\"\"Dataset Total Instances\"\"\"\n",
    "    class_dist = df.groupby(['label'])['duration'].count()\n",
    "\n",
    "    plt.figure(1, figsize=[16, 8])\n",
    "    gs = GridSpec(1, 14, wspace=0.5, hspace=0.25)\n",
    "\n",
    "    plt.subplot(gs[:, :7])\n",
    "    plt.barh(class_dist.index, class_dist, color='b')\n",
    "    plt.yticks(rotation=0, fontsize=12)\n",
    "    plt.title('Number of Samples Per Class', pad=10, loc='left')\n",
    "\n",
    "    plt.subplot(gs[:, 8:10])\n",
    "    df_files.boxplot(rot=0)\n",
    "    plt.yticks(rotation=0, fontsize=12)\n",
    "    plt.suptitle('')\n",
    "    plt.show()\n",
    "\n",
    "\n",
    "dataset_overview(df_files)\n"
   ]
  },
  {
   "cell_type": "markdown",
   "id": "bc6136af",
   "metadata": {
    "papermill": {
     "duration": 0.215993,
     "end_time": "2021-08-09T13:28:59.931446",
     "exception": false,
     "start_time": "2021-08-09T13:28:59.715453",
     "status": "completed"
    },
    "tags": []
   },
   "source": [
    "#  Dataset Insights:"
   ]
  },
  {
   "cell_type": "markdown",
   "id": "6fe996e9",
   "metadata": {
    "papermill": {
     "duration": 0.218594,
     "end_time": "2021-08-09T13:29:00.366862",
     "exception": false,
     "start_time": "2021-08-09T13:29:00.148268",
     "status": "completed"
    },
    "tags": []
   },
   "source": [
    "* The classes aren't balanced.\n",
    "* Most of the signals are 5-6 seconds long\n",
    "* There are few signals longer than 10 seconds"
   ]
  },
  {
   "cell_type": "markdown",
   "id": "ca4787b8",
   "metadata": {
    "papermill": {
     "duration": 0.215516,
     "end_time": "2021-08-09T13:29:00.798735",
     "exception": false,
     "start_time": "2021-08-09T13:29:00.583219",
     "status": "completed"
    },
    "tags": []
   },
   "source": [
    "# #03 - Pre-Processing: Extracting Scaled MFCC Features"
   ]
  },
  {
   "cell_type": "markdown",
   "id": "c304f645",
   "metadata": {
    "papermill": {
     "duration": 0.217907,
     "end_time": "2021-08-09T13:29:01.233258",
     "exception": false,
     "start_time": "2021-08-09T13:29:01.015351",
     "status": "completed"
    },
    "tags": []
   },
   "source": [
    "The pre-processing is a long time process (around 40 minutes).\n",
    "\n",
    "To save time, I uploaded the mfcc NumPy files as a dataset - you can load them directly in section 04"
   ]
  },
  {
   "cell_type": "code",
   "execution_count": 4,
   "id": "882fc8dd",
   "metadata": {
    "execution": {
     "iopub.execute_input": "2021-08-09T13:29:01.677522Z",
     "iopub.status.busy": "2021-08-09T13:29:01.676027Z",
     "iopub.status.idle": "2021-08-09T14:19:07.042728Z",
     "shell.execute_reply": "2021-08-09T14:19:07.043430Z"
    },
    "papermill": {
     "duration": 3005.593522,
     "end_time": "2021-08-09T14:19:07.043679",
     "exception": false,
     "start_time": "2021-08-09T13:29:01.450157",
     "status": "completed"
    },
    "tags": []
   },
   "outputs": [
    {
     "name": "stderr",
     "output_type": "stream",
     "text": [
      "11140it [50:05,  3.71it/s]\n"
     ]
    }
   ],
   "source": [
    "# ========================================================\n",
    "# f = features\n",
    "# l = List\n",
    "# ========================================================\n",
    "\n",
    "extracted_features_path = \"_\".join(['hop_length', str(hop_length),\n",
    "                                    'n_fft', str(n_fft),\n",
    "                                    'n_mfcc', str(n_mfcc)])\n",
    "\n",
    "def extract_features(dataset):\n",
    "    l_features_scale = []\n",
    "    l_labels = np.array(pd.get_dummies(dataset['label']))\n",
    "\n",
    "    '''Create mfcc matrix'''\n",
    "\n",
    "    for index, file in tqdm(dataset.iterrows()):\n",
    "\n",
    "        # Load audio files\n",
    "        signal, sample_rate = librosa.load(file['path'])\n",
    "\n",
    "        # Extract MFCC Coefficients\n",
    "        f_mfcc = librosa.feature.mfcc(signal,\n",
    "                                      sr=sample_rate,\n",
    "                                      n_mfcc=n_mfcc,\n",
    "                                      hop_length=hop_length)\n",
    "\n",
    "        # Scale MFCC\n",
    "        f_mfcc_scaled = np.mean(f_mfcc.T, axis=0)\n",
    "        l_features_scale.append(f_mfcc_scaled)\n",
    "            \n",
    "    np.save('./features_mfcc_scaled_' + extracted_features_path, l_features_scale)\n",
    "    np.save('./labels_mfcc_scaled_' + extracted_features_path, l_labels)\n",
    "\n",
    "    return np.array(l_features_scale), np.array(l_labels)\n",
    "\n",
    "\n",
    "features_1D, labels = extract_features(df_files)\n"
   ]
  },
  {
   "cell_type": "markdown",
   "id": "b537852c",
   "metadata": {
    "papermill": {
     "duration": 3.081577,
     "end_time": "2021-08-09T14:19:13.450347",
     "exception": false,
     "start_time": "2021-08-09T14:19:10.368770",
     "status": "completed"
    },
    "tags": []
   },
   "source": [
    "# #04 - Train/Test Split "
   ]
  },
  {
   "cell_type": "markdown",
   "id": "bba2b75b",
   "metadata": {
    "papermill": {
     "duration": 3.12808,
     "end_time": "2021-08-09T14:19:19.632010",
     "exception": false,
     "start_time": "2021-08-09T14:19:16.503930",
     "status": "completed"
    },
    "tags": []
   },
   "source": [
    "Loading the pre-saved MFCC matrix and labels vector, and split them to train/test datasets"
   ]
  },
  {
   "cell_type": "code",
   "execution_count": 5,
   "id": "cf1a5fed",
   "metadata": {
    "execution": {
     "iopub.execute_input": "2021-08-09T14:19:25.822274Z",
     "iopub.status.busy": "2021-08-09T14:19:25.821715Z",
     "iopub.status.idle": "2021-08-09T14:19:25.949900Z",
     "shell.execute_reply": "2021-08-09T14:19:25.950279Z",
     "shell.execute_reply.started": "2021-08-09T13:22:16.868892Z"
    },
    "papermill": {
     "duration": 3.128439,
     "end_time": "2021-08-09T14:19:25.950459",
     "exception": false,
     "start_time": "2021-08-09T14:19:22.822020",
     "status": "completed"
    },
    "tags": []
   },
   "outputs": [],
   "source": [
    "scaled_features = np.load( '../input/eating-sound-collection-extracted-mfcc-features/features_mfcc_scaled_' + extracted_features_path + '.npy')\n",
    "\n",
    "labels = np.load( '../input/eating-sound-collection-extracted-mfcc-features/labels_mfcc_scaled_' + extracted_features_path + '.npy')\n",
    "\n",
    "x_train, x_test, y_train, y_test = train_test_split(scaled_features, labels, test_size=0.2, random_state=10)"
   ]
  },
  {
   "cell_type": "markdown",
   "id": "723dfc28",
   "metadata": {
    "papermill": {
     "duration": 3.529614,
     "end_time": "2021-08-09T14:19:32.473103",
     "exception": false,
     "start_time": "2021-08-09T14:19:28.943489",
     "status": "completed"
    },
    "tags": []
   },
   "source": [
    "# #05 - Build & Train a Simple FC Model:"
   ]
  },
  {
   "cell_type": "code",
   "execution_count": 6,
   "id": "8ec91ae2",
   "metadata": {
    "_kg_hide-output": true,
    "execution": {
     "iopub.execute_input": "2021-08-09T14:19:39.645530Z",
     "iopub.status.busy": "2021-08-09T14:19:39.644904Z",
     "iopub.status.idle": "2021-08-09T14:22:40.046630Z",
     "shell.execute_reply": "2021-08-09T14:22:40.046144Z",
     "shell.execute_reply.started": "2021-08-09T13:22:16.982859Z"
    },
    "papermill": {
     "duration": 183.704913,
     "end_time": "2021-08-09T14:22:40.046772",
     "exception": false,
     "start_time": "2021-08-09T14:19:36.341859",
     "status": "completed"
    },
    "scrolled": true,
    "tags": []
   },
   "outputs": [
    {
     "name": "stdout",
     "output_type": "stream",
     "text": [
      "Model: \"Audio-Class-Model\"\n",
      "_________________________________________________________________\n",
      "Layer (type)                 Output Shape              Param #   \n",
      "=================================================================\n",
      "mfcc (InputLayer)            [(None, 64)]              0         \n",
      "_________________________________________________________________\n",
      "FC_1 (Dense)                 (None, 512)               33280     \n",
      "_________________________________________________________________\n",
      "batch_normalization (BatchNo (None, 512)               2048      \n",
      "_________________________________________________________________\n",
      "leaky_re_lu (LeakyReLU)      (None, 512)               0         \n",
      "_________________________________________________________________\n",
      "dropout (Dropout)            (None, 512)               0         \n",
      "_________________________________________________________________\n",
      "FC_2 (Dense)                 (None, 256)               131328    \n",
      "_________________________________________________________________\n",
      "batch_normalization_1 (Batch (None, 256)               1024      \n",
      "_________________________________________________________________\n",
      "leaky_re_lu_1 (LeakyReLU)    (None, 256)               0         \n",
      "_________________________________________________________________\n",
      "dropout_1 (Dropout)          (None, 256)               0         \n",
      "_________________________________________________________________\n",
      "FC_3 (Dense)                 (None, 20)                5140      \n",
      "=================================================================\n",
      "Total params: 172,820\n",
      "Trainable params: 171,284\n",
      "Non-trainable params: 1,536\n",
      "_________________________________________________________________\n",
      "Epoch 1/200\n",
      "223/223 [==============================] - 3s 7ms/step - loss: 2.6192 - accuracy: 0.2500 - val_loss: 1.6117 - val_accuracy: 0.5098\n",
      "Epoch 2/200\n",
      "223/223 [==============================] - 1s 4ms/step - loss: 1.5505 - accuracy: 0.5294 - val_loss: 1.3407 - val_accuracy: 0.5878\n",
      "Epoch 3/200\n",
      "223/223 [==============================] - 1s 4ms/step - loss: 1.1829 - accuracy: 0.6258 - val_loss: 1.0628 - val_accuracy: 0.6708\n",
      "Epoch 4/200\n",
      "223/223 [==============================] - 1s 4ms/step - loss: 0.9772 - accuracy: 0.7019 - val_loss: 0.7384 - val_accuracy: 0.7852\n",
      "Epoch 5/200\n",
      "223/223 [==============================] - 1s 4ms/step - loss: 0.8162 - accuracy: 0.7479 - val_loss: 0.9548 - val_accuracy: 0.6977\n",
      "Epoch 6/200\n",
      "223/223 [==============================] - 1s 4ms/step - loss: 0.7110 - accuracy: 0.7851 - val_loss: 0.7027 - val_accuracy: 0.7835\n",
      "Epoch 7/200\n",
      "223/223 [==============================] - 1s 4ms/step - loss: 0.6612 - accuracy: 0.7932 - val_loss: 0.6049 - val_accuracy: 0.8160\n",
      "Epoch 8/200\n",
      "223/223 [==============================] - 1s 4ms/step - loss: 0.5968 - accuracy: 0.8176 - val_loss: 0.6164 - val_accuracy: 0.7987\n",
      "Epoch 9/200\n",
      "223/223 [==============================] - 1s 4ms/step - loss: 0.5440 - accuracy: 0.8253 - val_loss: 0.6567 - val_accuracy: 0.8009\n",
      "Epoch 10/200\n",
      "223/223 [==============================] - 1s 4ms/step - loss: 0.5355 - accuracy: 0.8313 - val_loss: 0.5443 - val_accuracy: 0.8194\n",
      "Epoch 11/200\n",
      "223/223 [==============================] - 1s 5ms/step - loss: 0.5009 - accuracy: 0.8422 - val_loss: 0.4820 - val_accuracy: 0.8491\n",
      "Epoch 12/200\n",
      "223/223 [==============================] - 1s 4ms/step - loss: 0.4889 - accuracy: 0.8435 - val_loss: 0.4077 - val_accuracy: 0.8682\n",
      "Epoch 13/200\n",
      "223/223 [==============================] - 1s 4ms/step - loss: 0.4322 - accuracy: 0.8615 - val_loss: 0.4924 - val_accuracy: 0.8497\n",
      "Epoch 14/200\n",
      "223/223 [==============================] - 1s 4ms/step - loss: 0.4238 - accuracy: 0.8630 - val_loss: 0.6066 - val_accuracy: 0.8194\n",
      "Epoch 15/200\n",
      "223/223 [==============================] - 1s 3ms/step - loss: 0.4070 - accuracy: 0.8769 - val_loss: 0.4340 - val_accuracy: 0.8637\n",
      "Epoch 16/200\n",
      "223/223 [==============================] - 1s 3ms/step - loss: 0.3953 - accuracy: 0.8750 - val_loss: 0.3847 - val_accuracy: 0.8789\n",
      "Epoch 17/200\n",
      "223/223 [==============================] - 1s 3ms/step - loss: 0.3752 - accuracy: 0.8840 - val_loss: 0.5607 - val_accuracy: 0.8228\n",
      "Epoch 18/200\n",
      "223/223 [==============================] - 1s 3ms/step - loss: 0.3737 - accuracy: 0.8765 - val_loss: 0.4905 - val_accuracy: 0.8480\n",
      "Epoch 19/200\n",
      "223/223 [==============================] - 1s 3ms/step - loss: 0.3632 - accuracy: 0.8814 - val_loss: 0.3861 - val_accuracy: 0.8822\n",
      "Epoch 20/200\n",
      "223/223 [==============================] - 1s 3ms/step - loss: 0.3206 - accuracy: 0.8962 - val_loss: 0.3453 - val_accuracy: 0.8895\n",
      "Epoch 21/200\n",
      "223/223 [==============================] - 1s 3ms/step - loss: 0.3269 - accuracy: 0.8980 - val_loss: 0.5002 - val_accuracy: 0.8458\n",
      "Epoch 22/200\n",
      "223/223 [==============================] - 1s 3ms/step - loss: 0.3053 - accuracy: 0.9064 - val_loss: 0.4144 - val_accuracy: 0.8744\n",
      "Epoch 23/200\n",
      "223/223 [==============================] - 1s 4ms/step - loss: 0.3199 - accuracy: 0.8974 - val_loss: 0.3744 - val_accuracy: 0.8772\n",
      "Epoch 24/200\n",
      "223/223 [==============================] - 1s 5ms/step - loss: 0.2932 - accuracy: 0.9094 - val_loss: 0.4702 - val_accuracy: 0.8570\n",
      "Epoch 25/200\n",
      "223/223 [==============================] - 1s 4ms/step - loss: 0.3012 - accuracy: 0.8963 - val_loss: 0.3676 - val_accuracy: 0.8850\n",
      "Epoch 26/200\n",
      "223/223 [==============================] - 1s 4ms/step - loss: 0.2901 - accuracy: 0.9032 - val_loss: 0.3607 - val_accuracy: 0.8918\n",
      "Epoch 27/200\n",
      "223/223 [==============================] - 1s 4ms/step - loss: 0.2722 - accuracy: 0.9138 - val_loss: 0.2774 - val_accuracy: 0.9119\n",
      "Epoch 28/200\n",
      "223/223 [==============================] - 1s 4ms/step - loss: 0.2965 - accuracy: 0.9013 - val_loss: 0.3576 - val_accuracy: 0.8873\n",
      "Epoch 29/200\n",
      "223/223 [==============================] - 1s 5ms/step - loss: 0.2645 - accuracy: 0.9109 - val_loss: 0.3814 - val_accuracy: 0.8901\n",
      "Epoch 30/200\n",
      "223/223 [==============================] - 1s 4ms/step - loss: 0.2564 - accuracy: 0.9187 - val_loss: 0.5415 - val_accuracy: 0.8643\n",
      "Epoch 31/200\n",
      "223/223 [==============================] - 1s 5ms/step - loss: 0.2812 - accuracy: 0.9091 - val_loss: 0.2507 - val_accuracy: 0.9271\n",
      "Epoch 32/200\n",
      "223/223 [==============================] - 1s 5ms/step - loss: 0.2612 - accuracy: 0.9144 - val_loss: 0.3536 - val_accuracy: 0.8951\n",
      "Epoch 33/200\n",
      "223/223 [==============================] - 1s 5ms/step - loss: 0.2522 - accuracy: 0.9143 - val_loss: 0.2330 - val_accuracy: 0.9316\n",
      "Epoch 34/200\n",
      "223/223 [==============================] - 1s 6ms/step - loss: 0.2206 - accuracy: 0.9311 - val_loss: 0.2376 - val_accuracy: 0.9299\n",
      "Epoch 35/200\n",
      "223/223 [==============================] - 1s 6ms/step - loss: 0.2303 - accuracy: 0.9234 - val_loss: 0.2865 - val_accuracy: 0.9114\n",
      "Epoch 36/200\n",
      "223/223 [==============================] - 1s 5ms/step - loss: 0.2525 - accuracy: 0.9164 - val_loss: 0.2386 - val_accuracy: 0.9215\n",
      "Epoch 37/200\n",
      "223/223 [==============================] - 1s 5ms/step - loss: 0.2323 - accuracy: 0.9208 - val_loss: 0.4871 - val_accuracy: 0.8587\n",
      "Epoch 38/200\n",
      "223/223 [==============================] - 1s 4ms/step - loss: 0.2521 - accuracy: 0.9167 - val_loss: 0.2462 - val_accuracy: 0.9220\n",
      "Epoch 39/200\n",
      "223/223 [==============================] - 1s 4ms/step - loss: 0.2337 - accuracy: 0.9253 - val_loss: 0.2657 - val_accuracy: 0.9187\n",
      "Epoch 40/200\n",
      "223/223 [==============================] - 1s 4ms/step - loss: 0.2053 - accuracy: 0.9307 - val_loss: 0.3428 - val_accuracy: 0.9024\n",
      "Epoch 41/200\n",
      "223/223 [==============================] - 1s 4ms/step - loss: 0.1980 - accuracy: 0.9365 - val_loss: 0.2981 - val_accuracy: 0.9153\n",
      "Epoch 42/200\n",
      "223/223 [==============================] - 1s 4ms/step - loss: 0.2128 - accuracy: 0.9281 - val_loss: 0.1970 - val_accuracy: 0.9462\n",
      "Epoch 43/200\n",
      "223/223 [==============================] - 1s 4ms/step - loss: 0.2117 - accuracy: 0.9297 - val_loss: 0.2867 - val_accuracy: 0.9176\n",
      "Epoch 44/200\n",
      "223/223 [==============================] - 1s 4ms/step - loss: 0.2232 - accuracy: 0.9251 - val_loss: 0.4064 - val_accuracy: 0.8789\n",
      "Epoch 45/200\n",
      "223/223 [==============================] - 1s 4ms/step - loss: 0.2164 - accuracy: 0.9287 - val_loss: 0.3487 - val_accuracy: 0.8934\n",
      "Epoch 46/200\n",
      "223/223 [==============================] - 1s 4ms/step - loss: 0.2025 - accuracy: 0.9348 - val_loss: 0.2616 - val_accuracy: 0.9237\n",
      "Epoch 47/200\n",
      "223/223 [==============================] - 1s 5ms/step - loss: 0.2044 - accuracy: 0.9296 - val_loss: 0.4521 - val_accuracy: 0.8766\n",
      "Epoch 48/200\n",
      "223/223 [==============================] - 1s 4ms/step - loss: 0.2116 - accuracy: 0.9316 - val_loss: 0.2488 - val_accuracy: 0.9248\n",
      "Epoch 49/200\n",
      "223/223 [==============================] - 1s 4ms/step - loss: 0.1832 - accuracy: 0.9388 - val_loss: 0.3203 - val_accuracy: 0.9024\n",
      "Epoch 50/200\n",
      "223/223 [==============================] - 1s 3ms/step - loss: 0.2067 - accuracy: 0.9304 - val_loss: 0.3085 - val_accuracy: 0.9041\n",
      "Epoch 51/200\n",
      "223/223 [==============================] - 1s 3ms/step - loss: 0.1979 - accuracy: 0.9371 - val_loss: 0.2707 - val_accuracy: 0.9204\n",
      "Epoch 52/200\n",
      "223/223 [==============================] - 1s 3ms/step - loss: 0.1765 - accuracy: 0.9426 - val_loss: 0.3585 - val_accuracy: 0.8817\n",
      "Epoch 53/200\n",
      "223/223 [==============================] - 1s 3ms/step - loss: 0.1855 - accuracy: 0.9386 - val_loss: 0.3432 - val_accuracy: 0.9024\n",
      "Epoch 54/200\n",
      "223/223 [==============================] - 1s 3ms/step - loss: 0.1758 - accuracy: 0.9444 - val_loss: 0.2092 - val_accuracy: 0.9445\n",
      "Epoch 55/200\n",
      "223/223 [==============================] - 1s 3ms/step - loss: 0.1815 - accuracy: 0.9389 - val_loss: 0.2645 - val_accuracy: 0.9220\n",
      "Epoch 56/200\n",
      "223/223 [==============================] - 1s 4ms/step - loss: 0.1715 - accuracy: 0.9431 - val_loss: 0.2644 - val_accuracy: 0.9170\n",
      "Epoch 57/200\n",
      "223/223 [==============================] - 1s 4ms/step - loss: 0.1810 - accuracy: 0.9373 - val_loss: 0.2054 - val_accuracy: 0.9394\n",
      "Epoch 58/200\n",
      "223/223 [==============================] - 1s 4ms/step - loss: 0.1892 - accuracy: 0.9394 - val_loss: 0.3386 - val_accuracy: 0.9024\n",
      "Epoch 59/200\n",
      "223/223 [==============================] - 1s 4ms/step - loss: 0.1753 - accuracy: 0.9375 - val_loss: 0.2232 - val_accuracy: 0.9271\n",
      "Epoch 60/200\n",
      "223/223 [==============================] - 1s 4ms/step - loss: 0.1934 - accuracy: 0.9349 - val_loss: 0.1886 - val_accuracy: 0.9490\n",
      "Epoch 61/200\n",
      "223/223 [==============================] - 1s 4ms/step - loss: 0.1684 - accuracy: 0.9468 - val_loss: 0.3956 - val_accuracy: 0.8901\n",
      "Epoch 62/200\n",
      "223/223 [==============================] - 1s 4ms/step - loss: 0.1745 - accuracy: 0.9446 - val_loss: 0.3501 - val_accuracy: 0.9002\n",
      "Epoch 63/200\n",
      "223/223 [==============================] - 1s 3ms/step - loss: 0.1608 - accuracy: 0.9459 - val_loss: 0.2408 - val_accuracy: 0.9327\n",
      "Epoch 64/200\n",
      "223/223 [==============================] - 1s 3ms/step - loss: 0.1792 - accuracy: 0.9425 - val_loss: 0.2039 - val_accuracy: 0.9422\n",
      "Epoch 65/200\n",
      "223/223 [==============================] - 1s 4ms/step - loss: 0.1531 - accuracy: 0.9458 - val_loss: 0.3558 - val_accuracy: 0.9013\n",
      "Epoch 66/200\n",
      "223/223 [==============================] - 1s 4ms/step - loss: 0.1737 - accuracy: 0.9395 - val_loss: 0.2344 - val_accuracy: 0.9277\n",
      "Epoch 67/200\n",
      "223/223 [==============================] - 1s 4ms/step - loss: 0.1648 - accuracy: 0.9437 - val_loss: 0.2376 - val_accuracy: 0.9338\n",
      "Epoch 68/200\n",
      "223/223 [==============================] - 1s 3ms/step - loss: 0.1711 - accuracy: 0.9443 - val_loss: 0.2125 - val_accuracy: 0.9422\n",
      "Epoch 69/200\n",
      "223/223 [==============================] - 1s 3ms/step - loss: 0.1516 - accuracy: 0.9538 - val_loss: 0.3329 - val_accuracy: 0.9080\n",
      "Epoch 70/200\n",
      "223/223 [==============================] - 1s 3ms/step - loss: 0.1775 - accuracy: 0.9409 - val_loss: 0.2055 - val_accuracy: 0.9445\n",
      "Epoch 71/200\n",
      "223/223 [==============================] - 1s 3ms/step - loss: 0.1568 - accuracy: 0.9471 - val_loss: 0.2173 - val_accuracy: 0.9428\n",
      "Epoch 72/200\n",
      "223/223 [==============================] - 1s 3ms/step - loss: 0.1648 - accuracy: 0.9476 - val_loss: 0.1796 - val_accuracy: 0.9478\n",
      "Epoch 73/200\n",
      "223/223 [==============================] - 1s 3ms/step - loss: 0.1568 - accuracy: 0.9496 - val_loss: 0.1969 - val_accuracy: 0.9394\n",
      "Epoch 74/200\n",
      "223/223 [==============================] - 1s 6ms/step - loss: 0.1574 - accuracy: 0.9482 - val_loss: 0.2113 - val_accuracy: 0.9467\n",
      "Epoch 75/200\n",
      "223/223 [==============================] - 1s 5ms/step - loss: 0.1698 - accuracy: 0.9414 - val_loss: 0.1793 - val_accuracy: 0.9467\n",
      "Epoch 76/200\n",
      "223/223 [==============================] - 1s 5ms/step - loss: 0.1638 - accuracy: 0.9437 - val_loss: 0.2246 - val_accuracy: 0.9321\n",
      "Epoch 77/200\n",
      "223/223 [==============================] - 1s 5ms/step - loss: 0.1784 - accuracy: 0.9422 - val_loss: 0.3012 - val_accuracy: 0.9192\n",
      "Epoch 78/200\n",
      "223/223 [==============================] - 1s 5ms/step - loss: 0.1788 - accuracy: 0.9409 - val_loss: 0.2111 - val_accuracy: 0.9456\n",
      "Epoch 79/200\n",
      "223/223 [==============================] - 1s 4ms/step - loss: 0.1421 - accuracy: 0.9551 - val_loss: 0.3604 - val_accuracy: 0.9007\n",
      "Epoch 80/200\n",
      "223/223 [==============================] - 1s 4ms/step - loss: 0.1619 - accuracy: 0.9454 - val_loss: 0.2328 - val_accuracy: 0.9389\n",
      "Epoch 81/200\n",
      "223/223 [==============================] - 1s 3ms/step - loss: 0.1416 - accuracy: 0.9508 - val_loss: 0.2324 - val_accuracy: 0.9265\n",
      "Epoch 82/200\n",
      "223/223 [==============================] - 1s 3ms/step - loss: 0.1578 - accuracy: 0.9470 - val_loss: 0.2752 - val_accuracy: 0.9220\n",
      "Epoch 83/200\n",
      "223/223 [==============================] - 1s 3ms/step - loss: 0.1402 - accuracy: 0.9546 - val_loss: 0.2154 - val_accuracy: 0.9400\n",
      "Epoch 84/200\n",
      "223/223 [==============================] - 1s 3ms/step - loss: 0.1517 - accuracy: 0.9484 - val_loss: 0.1988 - val_accuracy: 0.9490\n",
      "Epoch 85/200\n",
      "223/223 [==============================] - 1s 4ms/step - loss: 0.1430 - accuracy: 0.9536 - val_loss: 0.2539 - val_accuracy: 0.9305\n",
      "Epoch 86/200\n",
      "223/223 [==============================] - 1s 4ms/step - loss: 0.1437 - accuracy: 0.9516 - val_loss: 0.2542 - val_accuracy: 0.9260\n",
      "Epoch 87/200\n",
      "223/223 [==============================] - 1s 3ms/step - loss: 0.1632 - accuracy: 0.9473 - val_loss: 0.1554 - val_accuracy: 0.9557\n",
      "Epoch 88/200\n",
      "223/223 [==============================] - 1s 3ms/step - loss: 0.1324 - accuracy: 0.9550 - val_loss: 0.2763 - val_accuracy: 0.9243\n",
      "Epoch 89/200\n",
      "223/223 [==============================] - 1s 3ms/step - loss: 0.1348 - accuracy: 0.9551 - val_loss: 0.3681 - val_accuracy: 0.8990\n",
      "Epoch 90/200\n",
      "223/223 [==============================] - 1s 3ms/step - loss: 0.1301 - accuracy: 0.9573 - val_loss: 0.2013 - val_accuracy: 0.9456\n",
      "Epoch 91/200\n",
      "223/223 [==============================] - 1s 4ms/step - loss: 0.1382 - accuracy: 0.9599 - val_loss: 0.2715 - val_accuracy: 0.9170\n",
      "Epoch 92/200\n",
      "223/223 [==============================] - 1s 4ms/step - loss: 0.1637 - accuracy: 0.9438 - val_loss: 0.1790 - val_accuracy: 0.9456\n",
      "Epoch 93/200\n",
      "223/223 [==============================] - 1s 4ms/step - loss: 0.1510 - accuracy: 0.9541 - val_loss: 0.1941 - val_accuracy: 0.9462\n",
      "Epoch 94/200\n",
      "223/223 [==============================] - 1s 4ms/step - loss: 0.1611 - accuracy: 0.9504 - val_loss: 0.2963 - val_accuracy: 0.9243\n",
      "Epoch 95/200\n",
      "223/223 [==============================] - 1s 4ms/step - loss: 0.1527 - accuracy: 0.9465 - val_loss: 0.2569 - val_accuracy: 0.9243\n",
      "Epoch 96/200\n",
      "223/223 [==============================] - 1s 4ms/step - loss: 0.1372 - accuracy: 0.9541 - val_loss: 0.2589 - val_accuracy: 0.9215\n",
      "Epoch 97/200\n",
      "223/223 [==============================] - 1s 4ms/step - loss: 0.1390 - accuracy: 0.9546 - val_loss: 0.1642 - val_accuracy: 0.9518\n",
      "Epoch 98/200\n",
      "223/223 [==============================] - 1s 4ms/step - loss: 0.1331 - accuracy: 0.9558 - val_loss: 0.2630 - val_accuracy: 0.9355\n",
      "Epoch 99/200\n",
      "223/223 [==============================] - 1s 5ms/step - loss: 0.1389 - accuracy: 0.9546 - val_loss: 0.1792 - val_accuracy: 0.9462\n",
      "Epoch 100/200\n",
      "223/223 [==============================] - 1s 4ms/step - loss: 0.1257 - accuracy: 0.9582 - val_loss: 0.1782 - val_accuracy: 0.9529\n",
      "Epoch 101/200\n",
      "223/223 [==============================] - 1s 4ms/step - loss: 0.1220 - accuracy: 0.9573 - val_loss: 0.1482 - val_accuracy: 0.9568\n",
      "Epoch 102/200\n",
      "223/223 [==============================] - 1s 5ms/step - loss: 0.1275 - accuracy: 0.9583 - val_loss: 0.2896 - val_accuracy: 0.9209\n",
      "Epoch 103/200\n",
      "223/223 [==============================] - 1s 4ms/step - loss: 0.1329 - accuracy: 0.9570 - val_loss: 0.1895 - val_accuracy: 0.9450\n",
      "Epoch 104/200\n",
      "223/223 [==============================] - 1s 4ms/step - loss: 0.1424 - accuracy: 0.9518 - val_loss: 0.1532 - val_accuracy: 0.9574\n",
      "Epoch 105/200\n",
      "223/223 [==============================] - 1s 4ms/step - loss: 0.1326 - accuracy: 0.9564 - val_loss: 0.1784 - val_accuracy: 0.9473\n",
      "Epoch 106/200\n",
      "223/223 [==============================] - 1s 4ms/step - loss: 0.1208 - accuracy: 0.9600 - val_loss: 0.1822 - val_accuracy: 0.9506\n",
      "Epoch 107/200\n",
      "223/223 [==============================] - 1s 4ms/step - loss: 0.1524 - accuracy: 0.9506 - val_loss: 0.1677 - val_accuracy: 0.9579\n",
      "Epoch 108/200\n",
      "223/223 [==============================] - 1s 4ms/step - loss: 0.1212 - accuracy: 0.9591 - val_loss: 0.1834 - val_accuracy: 0.9523\n",
      "Epoch 109/200\n",
      "223/223 [==============================] - 1s 4ms/step - loss: 0.1205 - accuracy: 0.9577 - val_loss: 0.2027 - val_accuracy: 0.9445\n",
      "Epoch 110/200\n",
      "223/223 [==============================] - 1s 4ms/step - loss: 0.1372 - accuracy: 0.9559 - val_loss: 0.2339 - val_accuracy: 0.9377\n",
      "Epoch 111/200\n",
      "223/223 [==============================] - 1s 5ms/step - loss: 0.1311 - accuracy: 0.9536 - val_loss: 0.2410 - val_accuracy: 0.9226\n",
      "Epoch 112/200\n",
      "223/223 [==============================] - 1s 4ms/step - loss: 0.1389 - accuracy: 0.9580 - val_loss: 0.3515 - val_accuracy: 0.9058\n",
      "Epoch 113/200\n",
      "223/223 [==============================] - 1s 4ms/step - loss: 0.1167 - accuracy: 0.9627 - val_loss: 0.2856 - val_accuracy: 0.9305\n",
      "Epoch 114/200\n",
      "223/223 [==============================] - 1s 4ms/step - loss: 0.1282 - accuracy: 0.9602 - val_loss: 0.1378 - val_accuracy: 0.9658\n",
      "Epoch 115/200\n",
      "223/223 [==============================] - 1s 4ms/step - loss: 0.1180 - accuracy: 0.9648 - val_loss: 0.2228 - val_accuracy: 0.9333\n",
      "Epoch 116/200\n",
      "223/223 [==============================] - 1s 5ms/step - loss: 0.1213 - accuracy: 0.9604 - val_loss: 0.1334 - val_accuracy: 0.9669\n",
      "Epoch 117/200\n",
      "223/223 [==============================] - 1s 6ms/step - loss: 0.1213 - accuracy: 0.9578 - val_loss: 0.1655 - val_accuracy: 0.9596\n",
      "Epoch 118/200\n",
      "223/223 [==============================] - 1s 6ms/step - loss: 0.1152 - accuracy: 0.9619 - val_loss: 0.1554 - val_accuracy: 0.9591\n",
      "Epoch 119/200\n",
      "223/223 [==============================] - 1s 6ms/step - loss: 0.1150 - accuracy: 0.9611 - val_loss: 0.1900 - val_accuracy: 0.9462\n",
      "Epoch 120/200\n",
      "223/223 [==============================] - 1s 6ms/step - loss: 0.1305 - accuracy: 0.9560 - val_loss: 0.2114 - val_accuracy: 0.9383\n",
      "Epoch 121/200\n",
      "223/223 [==============================] - 1s 5ms/step - loss: 0.1173 - accuracy: 0.9607 - val_loss: 0.2459 - val_accuracy: 0.9277\n",
      "Epoch 122/200\n",
      "223/223 [==============================] - 1s 4ms/step - loss: 0.1333 - accuracy: 0.9532 - val_loss: 0.1606 - val_accuracy: 0.9607\n",
      "Epoch 123/200\n",
      "223/223 [==============================] - 1s 4ms/step - loss: 0.1288 - accuracy: 0.9566 - val_loss: 0.2106 - val_accuracy: 0.9450\n",
      "Epoch 124/200\n",
      "223/223 [==============================] - 1s 4ms/step - loss: 0.1572 - accuracy: 0.9494 - val_loss: 0.1941 - val_accuracy: 0.9518\n",
      "Epoch 125/200\n",
      "223/223 [==============================] - 1s 3ms/step - loss: 0.1108 - accuracy: 0.9625 - val_loss: 0.1668 - val_accuracy: 0.9518\n",
      "Epoch 126/200\n",
      "223/223 [==============================] - 1s 4ms/step - loss: 0.1172 - accuracy: 0.9620 - val_loss: 0.1670 - val_accuracy: 0.9563\n",
      "Epoch 127/200\n",
      "223/223 [==============================] - 1s 4ms/step - loss: 0.1062 - accuracy: 0.9632 - val_loss: 0.1898 - val_accuracy: 0.9518\n",
      "Epoch 128/200\n",
      "223/223 [==============================] - 1s 4ms/step - loss: 0.1110 - accuracy: 0.9610 - val_loss: 0.1958 - val_accuracy: 0.9462\n",
      "Epoch 129/200\n",
      "223/223 [==============================] - 1s 4ms/step - loss: 0.1274 - accuracy: 0.9595 - val_loss: 0.2132 - val_accuracy: 0.9417\n",
      "Epoch 130/200\n",
      "223/223 [==============================] - 1s 3ms/step - loss: 0.1216 - accuracy: 0.9600 - val_loss: 0.2016 - val_accuracy: 0.9338\n",
      "Epoch 131/200\n",
      "223/223 [==============================] - 1s 3ms/step - loss: 0.1331 - accuracy: 0.9538 - val_loss: 0.1682 - val_accuracy: 0.9563\n",
      "Epoch 132/200\n",
      "223/223 [==============================] - 1s 3ms/step - loss: 0.1225 - accuracy: 0.9565 - val_loss: 0.1640 - val_accuracy: 0.9534\n",
      "Epoch 133/200\n",
      "223/223 [==============================] - 1s 4ms/step - loss: 0.1230 - accuracy: 0.9586 - val_loss: 0.1999 - val_accuracy: 0.9473\n",
      "Epoch 134/200\n",
      "223/223 [==============================] - 1s 4ms/step - loss: 0.1193 - accuracy: 0.9612 - val_loss: 0.2276 - val_accuracy: 0.9389\n",
      "Epoch 135/200\n",
      "223/223 [==============================] - 1s 4ms/step - loss: 0.1220 - accuracy: 0.9588 - val_loss: 0.2125 - val_accuracy: 0.9422\n",
      "Epoch 136/200\n",
      "223/223 [==============================] - 1s 3ms/step - loss: 0.1266 - accuracy: 0.9600 - val_loss: 0.1482 - val_accuracy: 0.9607\n",
      "Epoch 137/200\n",
      "223/223 [==============================] - 1s 3ms/step - loss: 0.1159 - accuracy: 0.9602 - val_loss: 0.2043 - val_accuracy: 0.9411\n",
      "Epoch 138/200\n",
      "223/223 [==============================] - 1s 3ms/step - loss: 0.1161 - accuracy: 0.9614 - val_loss: 0.1872 - val_accuracy: 0.9512\n",
      "Epoch 139/200\n",
      "223/223 [==============================] - 1s 3ms/step - loss: 0.1105 - accuracy: 0.9631 - val_loss: 0.1547 - val_accuracy: 0.9641\n",
      "Epoch 140/200\n",
      "223/223 [==============================] - 1s 3ms/step - loss: 0.1064 - accuracy: 0.9620 - val_loss: 0.2338 - val_accuracy: 0.9383\n",
      "Epoch 141/200\n",
      "223/223 [==============================] - 1s 3ms/step - loss: 0.1110 - accuracy: 0.9617 - val_loss: 0.2352 - val_accuracy: 0.9355\n",
      "Epoch 142/200\n",
      "223/223 [==============================] - 1s 4ms/step - loss: 0.1036 - accuracy: 0.9633 - val_loss: 0.2159 - val_accuracy: 0.9394\n",
      "Epoch 143/200\n",
      "223/223 [==============================] - 1s 5ms/step - loss: 0.1221 - accuracy: 0.9562 - val_loss: 0.1495 - val_accuracy: 0.9607\n",
      "Epoch 144/200\n",
      "223/223 [==============================] - 1s 4ms/step - loss: 0.1094 - accuracy: 0.9631 - val_loss: 0.1535 - val_accuracy: 0.9591\n",
      "Epoch 145/200\n",
      "223/223 [==============================] - 1s 4ms/step - loss: 0.1060 - accuracy: 0.9668 - val_loss: 0.1721 - val_accuracy: 0.9512\n",
      "Epoch 146/200\n",
      "223/223 [==============================] - 1s 4ms/step - loss: 0.1010 - accuracy: 0.9638 - val_loss: 0.2524 - val_accuracy: 0.9338\n",
      "Epoch 147/200\n",
      "223/223 [==============================] - 1s 4ms/step - loss: 0.1060 - accuracy: 0.9671 - val_loss: 0.1906 - val_accuracy: 0.9512\n",
      "Epoch 148/200\n",
      "223/223 [==============================] - 1s 4ms/step - loss: 0.1118 - accuracy: 0.9646 - val_loss: 0.1846 - val_accuracy: 0.9551\n",
      "Epoch 149/200\n",
      "223/223 [==============================] - 1s 3ms/step - loss: 0.1199 - accuracy: 0.9625 - val_loss: 0.2000 - val_accuracy: 0.9484\n",
      "Epoch 150/200\n",
      "223/223 [==============================] - 1s 3ms/step - loss: 0.1152 - accuracy: 0.9616 - val_loss: 0.1896 - val_accuracy: 0.9490\n",
      "Epoch 151/200\n",
      "223/223 [==============================] - 1s 3ms/step - loss: 0.1063 - accuracy: 0.9645 - val_loss: 0.2046 - val_accuracy: 0.9506\n",
      "Epoch 152/200\n",
      "223/223 [==============================] - 1s 3ms/step - loss: 0.1217 - accuracy: 0.9617 - val_loss: 0.1331 - val_accuracy: 0.9652\n",
      "Epoch 153/200\n",
      "223/223 [==============================] - 1s 3ms/step - loss: 0.1044 - accuracy: 0.9655 - val_loss: 0.2279 - val_accuracy: 0.9400\n",
      "Epoch 154/200\n",
      "223/223 [==============================] - 1s 3ms/step - loss: 0.1027 - accuracy: 0.9650 - val_loss: 0.3258 - val_accuracy: 0.8996\n",
      "Epoch 155/200\n",
      "223/223 [==============================] - 1s 3ms/step - loss: 0.1288 - accuracy: 0.9562 - val_loss: 0.2042 - val_accuracy: 0.9400\n",
      "Epoch 156/200\n",
      "223/223 [==============================] - 1s 3ms/step - loss: 0.0998 - accuracy: 0.9668 - val_loss: 0.1712 - val_accuracy: 0.9585\n",
      "Epoch 157/200\n",
      "223/223 [==============================] - 1s 4ms/step - loss: 0.1004 - accuracy: 0.9656 - val_loss: 0.1484 - val_accuracy: 0.9607\n",
      "Epoch 158/200\n",
      "223/223 [==============================] - 1s 5ms/step - loss: 0.0930 - accuracy: 0.9665 - val_loss: 0.1864 - val_accuracy: 0.9523\n",
      "Epoch 159/200\n",
      "223/223 [==============================] - 1s 5ms/step - loss: 0.1091 - accuracy: 0.9651 - val_loss: 0.1319 - val_accuracy: 0.9602\n",
      "Epoch 160/200\n",
      "223/223 [==============================] - 1s 6ms/step - loss: 0.0985 - accuracy: 0.9645 - val_loss: 0.1332 - val_accuracy: 0.9680\n",
      "Epoch 161/200\n",
      "223/223 [==============================] - 1s 5ms/step - loss: 0.1219 - accuracy: 0.9609 - val_loss: 0.1818 - val_accuracy: 0.9534\n",
      "Epoch 162/200\n",
      "223/223 [==============================] - 1s 5ms/step - loss: 0.0824 - accuracy: 0.9728 - val_loss: 0.1704 - val_accuracy: 0.9607\n",
      "Epoch 163/200\n",
      "223/223 [==============================] - 1s 5ms/step - loss: 0.1209 - accuracy: 0.9610 - val_loss: 0.1534 - val_accuracy: 0.9596\n",
      "Epoch 164/200\n",
      "223/223 [==============================] - 1s 5ms/step - loss: 0.1202 - accuracy: 0.9609 - val_loss: 0.1757 - val_accuracy: 0.9495\n",
      "Epoch 165/200\n",
      "223/223 [==============================] - 1s 4ms/step - loss: 0.1043 - accuracy: 0.9638 - val_loss: 0.1559 - val_accuracy: 0.9613\n",
      "Epoch 166/200\n",
      "223/223 [==============================] - 1s 3ms/step - loss: 0.0989 - accuracy: 0.9657 - val_loss: 0.1991 - val_accuracy: 0.9462\n",
      "Epoch 167/200\n",
      "223/223 [==============================] - 1s 3ms/step - loss: 0.1065 - accuracy: 0.9642 - val_loss: 0.1602 - val_accuracy: 0.9602\n",
      "Epoch 168/200\n",
      "223/223 [==============================] - 1s 3ms/step - loss: 0.0906 - accuracy: 0.9689 - val_loss: 0.1504 - val_accuracy: 0.9641\n",
      "Epoch 169/200\n",
      "223/223 [==============================] - 1s 4ms/step - loss: 0.1069 - accuracy: 0.9645 - val_loss: 0.1310 - val_accuracy: 0.9641\n",
      "Epoch 170/200\n",
      "223/223 [==============================] - 1s 4ms/step - loss: 0.1262 - accuracy: 0.9563 - val_loss: 0.1446 - val_accuracy: 0.9630\n",
      "Epoch 171/200\n",
      "223/223 [==============================] - 1s 4ms/step - loss: 0.0921 - accuracy: 0.9688 - val_loss: 0.1272 - val_accuracy: 0.9630\n",
      "Epoch 172/200\n",
      "223/223 [==============================] - 1s 5ms/step - loss: 0.0984 - accuracy: 0.9679 - val_loss: 0.1555 - val_accuracy: 0.9574\n",
      "Epoch 173/200\n",
      "223/223 [==============================] - 1s 4ms/step - loss: 0.1008 - accuracy: 0.9624 - val_loss: 0.2314 - val_accuracy: 0.9400\n",
      "Epoch 174/200\n",
      "223/223 [==============================] - 1s 4ms/step - loss: 0.1212 - accuracy: 0.9610 - val_loss: 0.1359 - val_accuracy: 0.9652\n",
      "Epoch 175/200\n",
      "223/223 [==============================] - 1s 4ms/step - loss: 0.1032 - accuracy: 0.9610 - val_loss: 0.1691 - val_accuracy: 0.9557\n",
      "Epoch 176/200\n",
      "223/223 [==============================] - 1s 4ms/step - loss: 0.1127 - accuracy: 0.9640 - val_loss: 0.1721 - val_accuracy: 0.9540\n",
      "Epoch 177/200\n",
      "223/223 [==============================] - 1s 4ms/step - loss: 0.1039 - accuracy: 0.9643 - val_loss: 0.1604 - val_accuracy: 0.9563\n",
      "Epoch 178/200\n",
      "223/223 [==============================] - 1s 4ms/step - loss: 0.1034 - accuracy: 0.9658 - val_loss: 0.1690 - val_accuracy: 0.9512\n",
      "Epoch 179/200\n",
      "223/223 [==============================] - 1s 4ms/step - loss: 0.0924 - accuracy: 0.9661 - val_loss: 0.1675 - val_accuracy: 0.9585\n",
      "Epoch 180/200\n",
      "223/223 [==============================] - 1s 6ms/step - loss: 0.1035 - accuracy: 0.9646 - val_loss: 0.1777 - val_accuracy: 0.9518\n",
      "Epoch 181/200\n",
      "223/223 [==============================] - 1s 4ms/step - loss: 0.0974 - accuracy: 0.9679 - val_loss: 0.2188 - val_accuracy: 0.9417\n",
      "Epoch 182/200\n",
      "223/223 [==============================] - 1s 4ms/step - loss: 0.0965 - accuracy: 0.9694 - val_loss: 0.1908 - val_accuracy: 0.9551\n",
      "Epoch 183/200\n",
      "223/223 [==============================] - 1s 4ms/step - loss: 0.0991 - accuracy: 0.9680 - val_loss: 0.1649 - val_accuracy: 0.9574\n",
      "Epoch 184/200\n",
      "223/223 [==============================] - 1s 4ms/step - loss: 0.1131 - accuracy: 0.9648 - val_loss: 0.1419 - val_accuracy: 0.9596\n",
      "Epoch 185/200\n",
      "223/223 [==============================] - 1s 5ms/step - loss: 0.1087 - accuracy: 0.9679 - val_loss: 0.1635 - val_accuracy: 0.9607\n",
      "Epoch 186/200\n",
      "223/223 [==============================] - 1s 4ms/step - loss: 0.1012 - accuracy: 0.9662 - val_loss: 0.1714 - val_accuracy: 0.9523\n",
      "Epoch 187/200\n",
      "223/223 [==============================] - 1s 4ms/step - loss: 0.0933 - accuracy: 0.9693 - val_loss: 0.1661 - val_accuracy: 0.9596\n",
      "Epoch 188/200\n",
      "223/223 [==============================] - 1s 4ms/step - loss: 0.0875 - accuracy: 0.9714 - val_loss: 0.1172 - val_accuracy: 0.9647\n",
      "Epoch 189/200\n",
      "223/223 [==============================] - 1s 4ms/step - loss: 0.0815 - accuracy: 0.9716 - val_loss: 0.2410 - val_accuracy: 0.9321\n",
      "Epoch 190/200\n",
      "223/223 [==============================] - 1s 4ms/step - loss: 0.0962 - accuracy: 0.9678 - val_loss: 0.1659 - val_accuracy: 0.9624\n",
      "Epoch 191/200\n",
      "223/223 [==============================] - 1s 4ms/step - loss: 0.0958 - accuracy: 0.9645 - val_loss: 0.1706 - val_accuracy: 0.9591\n",
      "Epoch 192/200\n",
      "223/223 [==============================] - 1s 4ms/step - loss: 0.0875 - accuracy: 0.9680 - val_loss: 0.1477 - val_accuracy: 0.9591\n",
      "Epoch 193/200\n",
      "223/223 [==============================] - 1s 4ms/step - loss: 0.1082 - accuracy: 0.9628 - val_loss: 0.3062 - val_accuracy: 0.9125\n",
      "Epoch 194/200\n",
      "223/223 [==============================] - 1s 4ms/step - loss: 0.1086 - accuracy: 0.9651 - val_loss: 0.1229 - val_accuracy: 0.9680\n",
      "Epoch 195/200\n",
      "223/223 [==============================] - 1s 4ms/step - loss: 0.0967 - accuracy: 0.9708 - val_loss: 0.1510 - val_accuracy: 0.9596\n",
      "Epoch 196/200\n",
      "223/223 [==============================] - 1s 4ms/step - loss: 0.1011 - accuracy: 0.9657 - val_loss: 0.1736 - val_accuracy: 0.9518\n",
      "Epoch 197/200\n",
      "223/223 [==============================] - 1s 4ms/step - loss: 0.0907 - accuracy: 0.9711 - val_loss: 0.1410 - val_accuracy: 0.9630\n",
      "Epoch 198/200\n",
      "223/223 [==============================] - 1s 5ms/step - loss: 0.0860 - accuracy: 0.9708 - val_loss: 0.3837 - val_accuracy: 0.9097\n",
      "Epoch 199/200\n",
      "223/223 [==============================] - 1s 4ms/step - loss: 0.1017 - accuracy: 0.9659 - val_loss: 0.1278 - val_accuracy: 0.9669\n",
      "Epoch 200/200\n",
      "223/223 [==============================] - 1s 4ms/step - loss: 0.0977 - accuracy: 0.9697 - val_loss: 0.1449 - val_accuracy: 0.9630\n"
     ]
    }
   ],
   "source": [
    "def build_fc_audio_model():\n",
    "    i = Input(shape=(n_mfcc,), name=\"mfcc\")\n",
    "    x = Dense(512, name=\"FC_1\")(i)\n",
    "    x = BatchNormalization()(x)\n",
    "    x = LeakyReLU()(x)\n",
    "    x = Dropout(rate=drop_rate, seed=drop_seed)(x)\n",
    "\n",
    "    x = Dense(256, name=\"FC_2\")(x)\n",
    "    x = BatchNormalization()(x)\n",
    "    x = LeakyReLU()(x)\n",
    "    x = Dropout(rate=drop_rate, seed=drop_seed)(x)\n",
    "\n",
    "    x = Dense(len(classes), name=\"FC_3\")(x)\n",
    "\n",
    "    model = Model(inputs=i, outputs=x, name='Audio-Class-Model')\n",
    "    model.summary()\n",
    "\n",
    "    return model\n",
    "\n",
    "\n",
    "'''building the model:'''\n",
    "model_1D = build_fc_audio_model()\n",
    "\n",
    "model_1D.compile(optimizer=optimizer,\n",
    "                 loss=func_loss,\n",
    "                 metrics='accuracy')\n",
    "\n",
    "'''fitting the model:'''\n",
    "history = model_1D.fit(x_train,\n",
    "                       y_train,\n",
    "                       batch_size=batch_size,\n",
    "                       epochs=n_epoch,\n",
    "                       validation_split=val_split)\n"
   ]
  },
  {
   "cell_type": "markdown",
   "id": "923bed42",
   "metadata": {
    "papermill": {
     "duration": 3.935259,
     "end_time": "2021-08-09T14:22:47.858323",
     "exception": false,
     "start_time": "2021-08-09T14:22:43.923064",
     "status": "completed"
    },
    "tags": []
   },
   "source": [
    "# #06 - Analysing Loss & Accuracy"
   ]
  },
  {
   "cell_type": "markdown",
   "id": "fb104c75",
   "metadata": {
    "papermill": {
     "duration": 3.877355,
     "end_time": "2021-08-09T14:22:55.865228",
     "exception": false,
     "start_time": "2021-08-09T14:22:51.987873",
     "status": "completed"
    },
    "tags": []
   },
   "source": [
    "The best results were with the MFCC 64 coefficients-  the results are below.\n",
    "\n",
    "**You can create your mfcc matrix using the function in section 03.**"
   ]
  },
  {
   "cell_type": "code",
   "execution_count": 7,
   "id": "a1be4b82",
   "metadata": {
    "execution": {
     "iopub.execute_input": "2021-08-09T14:23:03.828895Z",
     "iopub.status.busy": "2021-08-09T14:23:03.820884Z",
     "iopub.status.idle": "2021-08-09T14:23:04.102517Z",
     "shell.execute_reply": "2021-08-09T14:23:04.102958Z",
     "shell.execute_reply.started": "2021-08-09T13:25:42.174927Z"
    },
    "papermill": {
     "duration": 4.097852,
     "end_time": "2021-08-09T14:23:04.103109",
     "exception": false,
     "start_time": "2021-08-09T14:23:00.005257",
     "status": "completed"
    },
    "tags": []
   },
   "outputs": [
    {
     "data": {
      "image/png": "[encoded data removed]",
      "text/plain": [
       "<Figure size 1152x432 with 2 Axes>"
      ]
     },
     "metadata": {
      "needs_background": "light"
     },
     "output_type": "display_data"
    }
   ],
   "source": [
    "# summarize history for accuracy\n",
    "plt.figure(1, figsize=[16, 6])\n",
    "plt.subplot(121)\n",
    "plt.plot(history.history['accuracy'])\n",
    "plt.plot(history.history['val_accuracy'])\n",
    "plt.title('model accuracy')\n",
    "plt.ylabel('accuracy')\n",
    "plt.xlabel('epoch')\n",
    "plt.legend(['train', 'validation'], loc='upper left')\n",
    "\n",
    "# summarize history for loss\n",
    "plt.subplot(122)\n",
    "plt.plot(history.history['loss'])\n",
    "plt.plot(history.history['val_loss'])\n",
    "plt.title('model loss')\n",
    "plt.ylabel('loss')\n",
    "plt.xlabel('epoch')\n",
    "plt.legend(['train', 'validation'], loc='upper right')\n",
    "plt.show()"
   ]
  },
  {
   "cell_type": "markdown",
   "id": "e3af530c",
   "metadata": {
    "papermill": {
     "duration": 4.146154,
     "end_time": "2021-08-09T14:23:12.597934",
     "exception": false,
     "start_time": "2021-08-09T14:23:08.451780",
     "status": "completed"
    },
    "tags": []
   },
   "source": [
    "# #07 - Testing"
   ]
  },
  {
   "cell_type": "code",
   "execution_count": 8,
   "id": "4171e87e",
   "metadata": {
    "execution": {
     "iopub.execute_input": "2021-08-09T14:23:20.402019Z",
     "iopub.status.busy": "2021-08-09T14:23:20.401176Z",
     "iopub.status.idle": "2021-08-09T14:23:20.572608Z",
     "shell.execute_reply": "2021-08-09T14:23:20.572068Z",
     "shell.execute_reply.started": "2021-08-09T13:25:42.507461Z"
    },
    "papermill": {
     "duration": 4.062356,
     "end_time": "2021-08-09T14:23:20.572742",
     "exception": false,
     "start_time": "2021-08-09T14:23:16.510386",
     "status": "completed"
    },
    "tags": []
   },
   "outputs": [
    {
     "name": "stdout",
     "output_type": "stream",
     "text": [
      "70/70 [==============================] - 0s 2ms/step - loss: 0.1608 - accuracy: 0.9574\n"
     ]
    },
    {
     "data": {
      "text/plain": [
       "[0.16076073050498962, 0.9573608636856079]"
      ]
     },
     "execution_count": 8,
     "metadata": {},
     "output_type": "execute_result"
    }
   ],
   "source": [
    "model_1D.evaluate(x_test, y_test, batch_size=batch_size)"
   ]
  },
  {
   "cell_type": "markdown",
   "id": "504d09ed",
   "metadata": {
    "papermill": {
     "duration": 4.232812,
     "end_time": "2021-08-09T14:23:29.289093",
     "exception": false,
     "start_time": "2021-08-09T14:23:25.056281",
     "status": "completed"
    },
    "tags": []
   },
   "source": [
    "# #08 - Save the Model"
   ]
  },
  {
   "cell_type": "code",
   "execution_count": 9,
   "id": "193056bc",
   "metadata": {
    "execution": {
     "iopub.execute_input": "2021-08-09T14:23:38.569266Z",
     "iopub.status.busy": "2021-08-09T14:23:38.568328Z",
     "iopub.status.idle": "2021-08-09T14:23:40.148372Z",
     "shell.execute_reply": "2021-08-09T14:23:40.147851Z"
    },
    "papermill": {
     "duration": 6.422594,
     "end_time": "2021-08-09T14:23:40.148513",
     "exception": false,
     "start_time": "2021-08-09T14:23:33.725919",
     "status": "completed"
    },
    "tags": []
   },
   "outputs": [],
   "source": [
    "model_1D.save(extracted_features_path +  '_FC_Model')"
   ]
  }
 ],
 "metadata": {
  "kernelspec": {
   "display_name": "Python 3",
   "language": "python",
   "name": "python3"
  },
  "language_info": {
   "codemirror_mode": {
    "name": "ipython",
    "version": 3
   },
   "file_extension": ".py",
   "mimetype": "text/x-python",
   "name": "python",
   "nbconvert_exporter": "python",
   "pygments_lexer": "ipython3",
   "version": "3.7.10"
  },
  "papermill": {
   "default_parameters": {},
   "duration": 3390.533346,
   "end_time": "2021-08-09T14:23:47.281661",
   "environment_variables": {},
   "exception": null,
   "input_path": "__notebook__.ipynb",
   "output_path": "__notebook__.ipynb",
   "parameters": {},
   "start_time": "2021-08-09T13:27:16.748315",
   "version": "2.3.3"
  }
 },
 "nbformat": 4,
 "nbformat_minor": 5
}
